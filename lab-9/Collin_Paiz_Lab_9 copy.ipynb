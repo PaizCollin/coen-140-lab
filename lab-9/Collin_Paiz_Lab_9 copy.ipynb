{
 "cells": [
  {
   "cell_type": "code",
   "execution_count": 121,
   "metadata": {},
   "outputs": [],
   "source": [
    "# Import Libraries\n",
    "import pandas as pd\n",
    "import numpy as np\n",
    "from mlxtend.frequent_patterns import apriori, fpgrowth, association_rules\n",
    "import matplotlib.pyplot as plt\n",
    "from pyECLAT import ECLAT"
   ]
  },
  {
   "cell_type": "code",
   "execution_count": 122,
   "metadata": {},
   "outputs": [
    {
     "data": {
      "text/html": [
       "<div>\n",
       "<style scoped>\n",
       "    .dataframe tbody tr th:only-of-type {\n",
       "        vertical-align: middle;\n",
       "    }\n",
       "\n",
       "    .dataframe tbody tr th {\n",
       "        vertical-align: top;\n",
       "    }\n",
       "\n",
       "    .dataframe thead th {\n",
       "        text-align: right;\n",
       "    }\n",
       "</style>\n",
       "<table border=\"1\" class=\"dataframe\">\n",
       "  <thead>\n",
       "    <tr style=\"text-align: right;\">\n",
       "      <th></th>\n",
       "      <th>0</th>\n",
       "      <th>1</th>\n",
       "      <th>2</th>\n",
       "      <th>3</th>\n",
       "      <th>4</th>\n",
       "      <th>5</th>\n",
       "      <th>6</th>\n",
       "    </tr>\n",
       "  </thead>\n",
       "  <tbody>\n",
       "    <tr>\n",
       "      <th>0</th>\n",
       "      <td>Bread</td>\n",
       "      <td>Wine</td>\n",
       "      <td>Eggs</td>\n",
       "      <td>Meat</td>\n",
       "      <td>Cheese</td>\n",
       "      <td>Pencil</td>\n",
       "      <td>Diaper</td>\n",
       "    </tr>\n",
       "    <tr>\n",
       "      <th>1</th>\n",
       "      <td>Bread</td>\n",
       "      <td>Cheese</td>\n",
       "      <td>Meat</td>\n",
       "      <td>Diaper</td>\n",
       "      <td>Wine</td>\n",
       "      <td>Milk</td>\n",
       "      <td>Pencil</td>\n",
       "    </tr>\n",
       "    <tr>\n",
       "      <th>2</th>\n",
       "      <td>Cheese</td>\n",
       "      <td>Meat</td>\n",
       "      <td>Eggs</td>\n",
       "      <td>Milk</td>\n",
       "      <td>Wine</td>\n",
       "      <td>NaN</td>\n",
       "      <td>NaN</td>\n",
       "    </tr>\n",
       "    <tr>\n",
       "      <th>3</th>\n",
       "      <td>Cheese</td>\n",
       "      <td>Meat</td>\n",
       "      <td>Eggs</td>\n",
       "      <td>Milk</td>\n",
       "      <td>Wine</td>\n",
       "      <td>NaN</td>\n",
       "      <td>NaN</td>\n",
       "    </tr>\n",
       "    <tr>\n",
       "      <th>4</th>\n",
       "      <td>Meat</td>\n",
       "      <td>Pencil</td>\n",
       "      <td>Wine</td>\n",
       "      <td>NaN</td>\n",
       "      <td>NaN</td>\n",
       "      <td>NaN</td>\n",
       "      <td>NaN</td>\n",
       "    </tr>\n",
       "  </tbody>\n",
       "</table>\n",
       "</div>"
      ],
      "text/plain": [
       "        0       1     2       3       4       5       6\n",
       "0   Bread    Wine  Eggs    Meat  Cheese  Pencil  Diaper\n",
       "1   Bread  Cheese  Meat  Diaper    Wine    Milk  Pencil\n",
       "2  Cheese    Meat  Eggs    Milk    Wine     NaN     NaN\n",
       "3  Cheese    Meat  Eggs    Milk    Wine     NaN     NaN\n",
       "4    Meat  Pencil  Wine     NaN     NaN     NaN     NaN"
      ]
     },
     "execution_count": 122,
     "metadata": {},
     "output_type": "execute_result"
    }
   ],
   "source": [
    "# Read the dataset \n",
    "df = pd.read_csv('retail_dataset.csv', sep=',')\n",
    "\n",
    "# Print the first 5 rows\n",
    "df.head(5)"
   ]
  },
  {
   "cell_type": "code",
   "execution_count": 123,
   "metadata": {},
   "outputs": [
    {
     "name": "stdout",
     "output_type": "stream",
     "text": [
      "{'Meat', 'Cheese', 'Bread', 'Wine', nan, 'Pencil', 'Bagel', 'Eggs', 'Diaper', 'Milk'}\n"
     ]
    }
   ],
   "source": [
    "# Find the unique items in the table\n",
    "items = set()\n",
    "for col in df:\n",
    "    items.update(df[col].unique())\n",
    "print(items)"
   ]
  },
  {
   "cell_type": "code",
   "execution_count": 124,
   "metadata": {},
   "outputs": [],
   "source": [
    "itemset = set(items)\n",
    "encoded_vals = []\n",
    "for index, row in df.iterrows():\n",
    "    rowset = set(row) \n",
    "    labels = {}\n",
    "    uncommons = list(itemset - rowset)\n",
    "    commons = list(itemset.intersection(rowset))\n",
    "    for uc in uncommons:\n",
    "        labels[uc] = 0\n",
    "    for com in commons:\n",
    "        labels[com] = 1\n",
    "    encoded_vals.append(labels)\n",
    "encoded_vals[0]\n",
    "ohe_df = pd.DataFrame(encoded_vals)"
   ]
  },
  {
   "attachments": {},
   "cell_type": "markdown",
   "metadata": {},
   "source": [
    "fpgrowth"
   ]
  },
  {
   "cell_type": "code",
   "execution_count": 125,
   "metadata": {},
   "outputs": [
    {
     "name": "stdout",
     "output_type": "stream",
     "text": [
      "CPU times: total: 0 ns\n",
      "Wall time: 8 ms\n"
     ]
    },
    {
     "name": "stderr",
     "output_type": "stream",
     "text": [
      "c:\\Users\\paizc\\AppData\\Local\\Programs\\Python\\Python311\\Lib\\site-packages\\mlxtend\\frequent_patterns\\fpcommon.py:110: DeprecationWarning: DataFrames with non-bool types result in worse computationalperformance and their support might be discontinued in the future.Please use a DataFrame with bool type\n",
      "  warnings.warn(\n"
     ]
    }
   ],
   "source": [
    "%%time\n",
    "# Applying fpgrowth\n",
    "freq_items = fpgrowth(ohe_df, min_support=0.1, use_colnames=True)\n",
    "\n",
    "# Mining association rules\n",
    "fpgrowth_rules = association_rules(freq_items, metric=\"confidence\", min_threshold=0.5)"
   ]
  },
  {
   "cell_type": "code",
   "execution_count": 132,
   "metadata": {},
   "outputs": [
    {
     "name": "stdout",
     "output_type": "stream",
     "text": [
      "Rate of Milk, Meat, and Cheese being purchased together: 0.20317460317460317\n",
      "Percentage of customers who buy Eggs, Meat, and Cheese: 21.58730158730159\n"
     ]
    }
   ],
   "source": [
    "# Finding the support of the itemset\n",
    "support_milk_meat_cheese = freq_items[freq_items['itemsets'] == frozenset({'Milk', 'Meat', 'Cheese'})]['support'].values[0]\n",
    "\n",
    "print(\"Rate of Milk, Meat, and Cheese being purchased together:\", support_milk_meat_cheese)"
   ]
  },
  {
   "cell_type": "code",
   "execution_count": 127,
   "metadata": {},
   "outputs": [
    {
     "name": "stdout",
     "output_type": "stream",
     "text": [
      "Percentage of customers who buy Eggs, Meat, and Cheese: 21.58730158730159 %\n"
     ]
    }
   ],
   "source": [
    "# Finding the support of the itemset\n",
    "support_milk_meat_cheese = freq_items[freq_items['itemsets'] == frozenset({'Eggs', 'Meat', 'Cheese'})]['support'].values[0]\n",
    "\n",
    "print(\"Percentage of customers who buy Eggs, Meat, and Cheese:\", support_milk_meat_cheese*100, \"%\")"
   ]
  },
  {
   "attachments": {},
   "cell_type": "markdown",
   "metadata": {},
   "source": [
    "ECLAT"
   ]
  },
  {
   "cell_type": "code",
   "execution_count": 128,
   "metadata": {},
   "outputs": [],
   "source": [
    "attrCount = len(df.count())\n",
    "i = 0\n",
    "for col in df.columns[:attrCount].tolist():\n",
    "    df.rename(columns={col : i}, inplace=True)\n",
    "    i += 1"
   ]
  },
  {
   "cell_type": "code",
   "execution_count": 129,
   "metadata": {},
   "outputs": [
    {
     "name": "stdout",
     "output_type": "stream",
     "text": [
      "Combination 1 by 1\n"
     ]
    },
    {
     "name": "stderr",
     "output_type": "stream",
     "text": [
      "9it [00:00, 449.90it/s]\n"
     ]
    },
    {
     "name": "stdout",
     "output_type": "stream",
     "text": [
      "Combination 2 by 2\n"
     ]
    },
    {
     "name": "stderr",
     "output_type": "stream",
     "text": [
      "36it [00:00, 473.58it/s]\n"
     ]
    },
    {
     "name": "stdout",
     "output_type": "stream",
     "text": [
      "Combination 3 by 3\n"
     ]
    },
    {
     "name": "stderr",
     "output_type": "stream",
     "text": [
      "84it [00:00, 515.22it/s]"
     ]
    },
    {
     "name": "stdout",
     "output_type": "stream",
     "text": [
      "CPU times: total: 281 ms\n",
      "Wall time: 280 ms\n"
     ]
    },
    {
     "name": "stderr",
     "output_type": "stream",
     "text": [
      "\n"
     ]
    }
   ],
   "source": [
    "%%time\n",
    "\n",
    "# Init ECLAT\n",
    "eclat = ECLAT(df)\n",
    "\n",
    "# Apply ECLAT\n",
    "x, y = eclat.fit(min_support=0.1)"
   ]
  },
  {
   "cell_type": "code",
   "execution_count": 130,
   "metadata": {},
   "outputs": [
    {
     "name": "stdout",
     "output_type": "stream",
     "text": [
      "Rate of Milk, Meat, and Cheese being purchased together: 0.20317460317460317\n"
     ]
    }
   ],
   "source": [
    "for key, value in y.items():\n",
    "    if key == 'Meat & Cheese & Milk':\n",
    "        support = value\n",
    "        break\n",
    "\n",
    "print(\"Rate of Milk, Meat, and Cheese being purchased together:\", support)"
   ]
  },
  {
   "attachments": {},
   "cell_type": "markdown",
   "metadata": {},
   "source": []
  }
 ],
 "metadata": {
  "kernelspec": {
   "display_name": "Python 3",
   "language": "python",
   "name": "python3"
  },
  "language_info": {
   "codemirror_mode": {
    "name": "ipython",
    "version": 3
   },
   "file_extension": ".py",
   "mimetype": "text/x-python",
   "name": "python",
   "nbconvert_exporter": "python",
   "pygments_lexer": "ipython3",
   "version": "3.11.3"
  },
  "orig_nbformat": 4
 },
 "nbformat": 4,
 "nbformat_minor": 2
}
