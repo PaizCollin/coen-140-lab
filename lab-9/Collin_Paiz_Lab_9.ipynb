{
 "cells": [
  {
   "cell_type": "code",
   "execution_count": 175,
   "metadata": {},
   "outputs": [],
   "source": [
    "# Import Libraries\n",
    "import pandas as pd\n",
    "import numpy as np\n",
    "from mlxtend.frequent_patterns import apriori, fpgrowth, association_rules\n",
    "import matplotlib.pyplot as plt\n",
    "from pyECLAT import ECLAT"
   ]
  },
  {
   "cell_type": "code",
   "execution_count": 176,
   "metadata": {},
   "outputs": [
    {
     "data": {
      "text/html": [
       "<div>\n",
       "<style scoped>\n",
       "    .dataframe tbody tr th:only-of-type {\n",
       "        vertical-align: middle;\n",
       "    }\n",
       "\n",
       "    .dataframe tbody tr th {\n",
       "        vertical-align: top;\n",
       "    }\n",
       "\n",
       "    .dataframe thead th {\n",
       "        text-align: right;\n",
       "    }\n",
       "</style>\n",
       "<table border=\"1\" class=\"dataframe\">\n",
       "  <thead>\n",
       "    <tr style=\"text-align: right;\">\n",
       "      <th></th>\n",
       "      <th>0</th>\n",
       "      <th>1</th>\n",
       "      <th>2</th>\n",
       "      <th>3</th>\n",
       "      <th>4</th>\n",
       "      <th>5</th>\n",
       "      <th>6</th>\n",
       "    </tr>\n",
       "  </thead>\n",
       "  <tbody>\n",
       "    <tr>\n",
       "      <th>0</th>\n",
       "      <td>Bread</td>\n",
       "      <td>Wine</td>\n",
       "      <td>Eggs</td>\n",
       "      <td>Meat</td>\n",
       "      <td>Cheese</td>\n",
       "      <td>Pencil</td>\n",
       "      <td>Diaper</td>\n",
       "    </tr>\n",
       "    <tr>\n",
       "      <th>1</th>\n",
       "      <td>Bread</td>\n",
       "      <td>Cheese</td>\n",
       "      <td>Meat</td>\n",
       "      <td>Diaper</td>\n",
       "      <td>Wine</td>\n",
       "      <td>Milk</td>\n",
       "      <td>Pencil</td>\n",
       "    </tr>\n",
       "    <tr>\n",
       "      <th>2</th>\n",
       "      <td>Cheese</td>\n",
       "      <td>Meat</td>\n",
       "      <td>Eggs</td>\n",
       "      <td>Milk</td>\n",
       "      <td>Wine</td>\n",
       "      <td>NaN</td>\n",
       "      <td>NaN</td>\n",
       "    </tr>\n",
       "    <tr>\n",
       "      <th>3</th>\n",
       "      <td>Cheese</td>\n",
       "      <td>Meat</td>\n",
       "      <td>Eggs</td>\n",
       "      <td>Milk</td>\n",
       "      <td>Wine</td>\n",
       "      <td>NaN</td>\n",
       "      <td>NaN</td>\n",
       "    </tr>\n",
       "    <tr>\n",
       "      <th>4</th>\n",
       "      <td>Meat</td>\n",
       "      <td>Pencil</td>\n",
       "      <td>Wine</td>\n",
       "      <td>NaN</td>\n",
       "      <td>NaN</td>\n",
       "      <td>NaN</td>\n",
       "      <td>NaN</td>\n",
       "    </tr>\n",
       "  </tbody>\n",
       "</table>\n",
       "</div>"
      ],
      "text/plain": [
       "        0       1     2       3       4       5       6\n",
       "0   Bread    Wine  Eggs    Meat  Cheese  Pencil  Diaper\n",
       "1   Bread  Cheese  Meat  Diaper    Wine    Milk  Pencil\n",
       "2  Cheese    Meat  Eggs    Milk    Wine     NaN     NaN\n",
       "3  Cheese    Meat  Eggs    Milk    Wine     NaN     NaN\n",
       "4    Meat  Pencil  Wine     NaN     NaN     NaN     NaN"
      ]
     },
     "execution_count": 176,
     "metadata": {},
     "output_type": "execute_result"
    }
   ],
   "source": [
    "# Read the dataset \n",
    "df = pd.read_csv('retail_dataset.csv', sep=',')\n",
    "\n",
    "# Print the first 5 rows\n",
    "df.head(5)"
   ]
  },
  {
   "cell_type": "code",
   "execution_count": 177,
   "metadata": {},
   "outputs": [
    {
     "name": "stdout",
     "output_type": "stream",
     "text": [
      "{'Meat', 'Cheese', 'Bread', 'Wine', nan, 'Pencil', 'Bagel', 'Eggs', 'Diaper', 'Milk'}\n"
     ]
    }
   ],
   "source": [
    "# Find the unique items in the table\n",
    "items = set()\n",
    "for col in df:\n",
    "    items.update(df[col].unique())\n",
    "print(items)"
   ]
  },
  {
   "cell_type": "code",
   "execution_count": 178,
   "metadata": {},
   "outputs": [],
   "source": [
    "itemset = set(items)\n",
    "encoded_vals = []\n",
    "for index, row in df.iterrows():\n",
    "    rowset = set(row) \n",
    "    labels = {}\n",
    "    uncommons = list(itemset - rowset)\n",
    "    commons = list(itemset.intersection(rowset))\n",
    "    for uc in uncommons:\n",
    "        labels[uc] = 0\n",
    "    for com in commons:\n",
    "        labels[com] = 1\n",
    "    encoded_vals.append(labels)\n",
    "encoded_vals[0]\n",
    "ohe_df = pd.DataFrame(encoded_vals)"
   ]
  },
  {
   "attachments": {},
   "cell_type": "markdown",
   "metadata": {},
   "source": [
    "fpgrowth"
   ]
  },
  {
   "cell_type": "code",
   "execution_count": 179,
   "metadata": {},
   "outputs": [
    {
     "name": "stdout",
     "output_type": "stream",
     "text": [
      "Rate of Milk, Meat, Cheese being bought together:  0.20317460317460317\n",
      "Percentage of Customers who buy Eggs, Meat, Cheese:  74.28571428571428\n",
      "CPU times: total: 15.6 ms\n",
      "Wall time: 20 ms\n"
     ]
    },
    {
     "name": "stderr",
     "output_type": "stream",
     "text": [
      "c:\\Users\\paizc\\AppData\\Local\\Programs\\Python\\Python311\\Lib\\site-packages\\mlxtend\\frequent_patterns\\fpcommon.py:110: DeprecationWarning: DataFrames with non-bool types result in worse computationalperformance and their support might be discontinued in the future.Please use a DataFrame with bool type\n",
      "  warnings.warn(\n"
     ]
    }
   ],
   "source": [
    "%%time\n",
    "# Applying fpgrowth\n",
    "freq_items = fpgrowth(ohe_df, min_support=0.1, use_colnames=True)\n",
    "\n",
    "# Mining association rules\n",
    "fpgrowth_rules = association_rules(freq_items, metric=\"confidence\", min_threshold=0.5)\n",
    "\n",
    "# sets\n",
    "a = set(['Milk', 'Meat', 'Cheese'])\n",
    "egg = set(['Eggs'])\n",
    "meat = set(['Meat'])\n",
    "milk = set(['Milk'])\n",
    "cheese = set(['Cheese'])\n",
    "\n",
    "egg_meat = set(['Eggs', 'Meat'])\n",
    "egg_cheese = set(['Eggs', 'Cheese'])\n",
    "meat_cheese = set(['Meat', 'Cheese'])\n",
    "egg_meat_cheese = set(['Eggs', 'Meat', 'Cheese'])\n",
    "\n",
    "sum = 0\n",
    "idx = -1\n",
    "\n",
    "for idx, values in freq_items.items():\n",
    "    if idx == 'itemsets':\n",
    "        val_list = values.tolist()\n",
    "        for i, v in enumerate(val_list):\n",
    "            if v == a:\n",
    "                idx_a = i\n",
    "            elif v == egg or v == meat or v == cheese or v == egg_cheese_meat:\n",
    "                sum += freq_items.at[i, 'support']\n",
    "            elif v == egg_meat or v == egg_cheese or v == meat_cheese or v == egg_cheese_meat:\n",
    "                sum -= freq_items.at[i, 'support']\n",
    "\n",
    "\n",
    "print(\"Rate of Milk, Meat, Cheese being bought together: \", freq_items.at[idx_a,'support'])\n",
    "print(\"Percentage of Customers who buy Eggs, Meat, Cheese: \", sum * 100)\n"
   ]
  },
  {
   "attachments": {},
   "cell_type": "markdown",
   "metadata": {},
   "source": [
    "ECLAT"
   ]
  },
  {
   "cell_type": "code",
   "execution_count": 180,
   "metadata": {},
   "outputs": [],
   "source": [
    "attrCount = len(df.count())\n",
    "i = 0\n",
    "for col in df.columns[:attrCount].tolist():\n",
    "    df.rename(columns={col : i}, inplace=True)\n",
    "    i += 1"
   ]
  },
  {
   "cell_type": "code",
   "execution_count": 181,
   "metadata": {},
   "outputs": [
    {
     "name": "stdout",
     "output_type": "stream",
     "text": [
      "Combination 1 by 1\n"
     ]
    },
    {
     "name": "stderr",
     "output_type": "stream",
     "text": [
      "9it [00:00, 204.48it/s]\n"
     ]
    },
    {
     "name": "stdout",
     "output_type": "stream",
     "text": [
      "Combination 2 by 2\n"
     ]
    },
    {
     "name": "stderr",
     "output_type": "stream",
     "text": [
      "36it [00:00, 163.58it/s]\n"
     ]
    },
    {
     "name": "stdout",
     "output_type": "stream",
     "text": [
      "Combination 3 by 3\n"
     ]
    },
    {
     "name": "stderr",
     "output_type": "stream",
     "text": [
      "84it [00:00, 192.62it/s]\n"
     ]
    },
    {
     "name": "stdout",
     "output_type": "stream",
     "text": [
      "Combination 4 by 4\n"
     ]
    },
    {
     "name": "stderr",
     "output_type": "stream",
     "text": [
      "126it [00:00, 260.26it/s]\n"
     ]
    },
    {
     "name": "stdout",
     "output_type": "stream",
     "text": [
      "Combination 5 by 5\n"
     ]
    },
    {
     "name": "stderr",
     "output_type": "stream",
     "text": [
      "126it [00:00, 220.22it/s]\n"
     ]
    },
    {
     "name": "stdout",
     "output_type": "stream",
     "text": [
      "Combination 6 by 6\n"
     ]
    },
    {
     "name": "stderr",
     "output_type": "stream",
     "text": [
      "84it [00:00, 218.68it/s]\n"
     ]
    },
    {
     "name": "stdout",
     "output_type": "stream",
     "text": [
      "Combination 7 by 7\n"
     ]
    },
    {
     "name": "stderr",
     "output_type": "stream",
     "text": [
      "36it [00:00, 160.67it/s]"
     ]
    },
    {
     "name": "stdout",
     "output_type": "stream",
     "text": [
      "Rate of Milk, Meat, Cheese being bought together:  0.20317460317460317\n",
      "Percentage of Customers who buy Eggs, Meat, Cheese:  74.28571428571428\n",
      "CPU times: total: 2.48 s\n",
      "Wall time: 2.43 s\n"
     ]
    },
    {
     "name": "stderr",
     "output_type": "stream",
     "text": [
      "\n"
     ]
    }
   ],
   "source": [
    "%%time\n",
    "\n",
    "# Init ECLAT\n",
    "eclat = ECLAT(df)\n",
    "\n",
    "# Apply ECLAT\n",
    "x, y = eclat.fit(min_support=0.1, min_combination=1, max_combination=7, separator=' ')\n",
    "\n",
    "# sets\n",
    "a = set(['Milk', 'Meat', 'Cheese'])\n",
    "egg = set(['Eggs'])\n",
    "meat = set(['Meat'])\n",
    "milk = set(['Milk'])\n",
    "cheese = set(['Cheese'])\n",
    "\n",
    "egg_meat = set(['Eggs', 'Meat'])\n",
    "egg_cheese = set(['Eggs', 'Cheese'])\n",
    "meat_cheese = set(['Meat', 'Cheese'])\n",
    "egg_meat_cheese = set(['Eggs', 'Meat', 'Cheese'])\n",
    "\n",
    "sum = 0\n",
    "idx = -1\n",
    "\n",
    "for k, v in y.items():\n",
    "    s = set(k.split())\n",
    "    if s == a:\n",
    "        support = v\n",
    "    elif s == egg or s == meat or s == cheese or s == egg_meat_cheese:\n",
    "        sum += v\n",
    "    elif s == egg_meat or s == egg_cheese or s == meat_cheese:\n",
    "        sum -= v\n",
    "\n",
    "print(\"Rate of Milk, Meat, Cheese being bought together: \", support)\n",
    "print(\"Percentage of Customers who buy Eggs, Meat, Cheese: \", sum * 100)"
   ]
  }
 ],
 "metadata": {
  "kernelspec": {
   "display_name": "Python 3",
   "language": "python",
   "name": "python3"
  },
  "language_info": {
   "codemirror_mode": {
    "name": "ipython",
    "version": 3
   },
   "file_extension": ".py",
   "mimetype": "text/x-python",
   "name": "python",
   "nbconvert_exporter": "python",
   "pygments_lexer": "ipython3",
   "version": "3.11.3"
  },
  "orig_nbformat": 4
 },
 "nbformat": 4,
 "nbformat_minor": 2
}
