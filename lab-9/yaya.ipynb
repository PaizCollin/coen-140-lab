{
 "cells": [
  {
   "cell_type": "code",
   "execution_count": 1,
   "metadata": {},
   "outputs": [],
   "source": [
    "# Import Libraries\n",
    "import pandas as pd\n",
    "import numpy as np\n",
    "from mlxtend.frequent_patterns import apriori, fpgrowth, association_rules\n",
    "import matplotlib.pyplot as plt\n",
    "from pyECLAT import ECLAT"
   ]
  },
  {
   "cell_type": "code",
   "execution_count": 4,
   "metadata": {},
   "outputs": [],
   "source": [
    "# Read the dataset \n",
    "df = pd.read_csv('retail_dataset.csv', sep=',')\n",
    "\n",
    "attrCount = len(df.count())\n",
    "i = 0\n",
    "for col in df.columns[:attrCount].tolist():\n",
    "    df.rename(columns={col : i}, inplace=True)\n",
    "    i += 1\n"
   ]
  },
  {
   "cell_type": "code",
   "execution_count": 5,
   "metadata": {},
   "outputs": [
    {
     "name": "stderr",
     "output_type": "stream",
     "text": [
      "100%|██████████| 9/9 [00:00<00:00, 173.03it/s]\n",
      "100%|██████████| 9/9 [00:00<?, ?it/s]\n",
      "100%|██████████| 9/9 [00:00<00:00, 2249.36it/s]\n"
     ]
    }
   ],
   "source": [
    "eclat = ECLAT(data = df, verbose = True)"
   ]
  }
 ],
 "metadata": {
  "kernelspec": {
   "display_name": "Python 3",
   "language": "python",
   "name": "python3"
  },
  "language_info": {
   "codemirror_mode": {
    "name": "ipython",
    "version": 3
   },
   "file_extension": ".py",
   "mimetype": "text/x-python",
   "name": "python",
   "nbconvert_exporter": "python",
   "pygments_lexer": "ipython3",
   "version": "3.11.3"
  },
  "orig_nbformat": 4
 },
 "nbformat": 4,
 "nbformat_minor": 2
}
