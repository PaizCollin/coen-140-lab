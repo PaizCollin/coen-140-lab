{
 "cells": [
  {
   "cell_type": "code",
   "execution_count": 22,
   "id": "58276738-962a-4ddf-90d3-e3e223afc22a",
   "metadata": {},
   "outputs": [
    {
     "name": "stdin",
     "output_type": "stream",
     "text": [
      "Input:  10\n"
     ]
    },
    {
     "name": "stdout",
     "output_type": "stream",
     "text": [
      "1\n",
      "3\n",
      "5\n",
      "7\n",
      "9\n"
     ]
    }
   ],
   "source": [
    "def listOddNums(n):\n",
    "    for i in range(n):\n",
    "        if i%2 != 0:\n",
    "            print(i)\n",
    "\n",
    "n = int(input(\"Input: \"))\n",
    "listOddNums(n)"
   ]
  },
  {
   "cell_type": "code",
   "execution_count": 18,
   "id": "750f0044-7924-46c1-b8d6-9056a65aeb3b",
   "metadata": {},
   "outputs": [
    {
     "name": "stdin",
     "output_type": "stream",
     "text": [
      "File name:  students.csv\n"
     ]
    },
    {
     "name": "stdout",
     "output_type": "stream",
     "text": [
      "Daniel,21,MECH\n",
      "\n",
      "Joe,22,BIOE\n",
      "\n",
      "Mike,22,COEN\n",
      "\n",
      "Pedro,22,AMTH\n",
      "\n",
      "Ryan,19,ELEN\n",
      "\n"
     ]
    }
   ],
   "source": [
    "def sortStudents(file_name):\n",
    "    file = open(file_name, \"r\")\n",
    "    sortedStudents = sorted(file)\n",
    "    \n",
    "    for i in sortedStudents:\n",
    "        print(i)\n",
    "    file.close()\n",
    "\n",
    "file_name = input(\"File name: \")\n",
    "sortStudents(file_name)"
   ]
  },
  {
   "cell_type": "code",
   "execution_count": 23,
   "id": "5bdbd2d1-ddc9-443d-807a-6c97de9921db",
   "metadata": {},
   "outputs": [
    {
     "name": "stdin",
     "output_type": "stream",
     "text": [
      "Input:  tyjdlsdsddkd\n"
     ]
    },
    {
     "name": "stdout",
     "output_type": "stream",
     "text": [
      "d\n"
     ]
    },
    {
     "data": {
      "text/plain": [
       "'d'"
      ]
     },
     "execution_count": 23,
     "metadata": {},
     "output_type": "execute_result"
    }
   ],
   "source": [
    "def mostFrequentChar(str):\n",
    "    dict = {}\n",
    "    for i in str:\n",
    "        if i in dict.keys():\n",
    "            dict[i] += 1\n",
    "        else:\n",
    "            dict[i] = 1\n",
    "    \n",
    "    max = -1\n",
    "    for i in dict:\n",
    "        if dict[i] > max:\n",
    "            max = dict[i]\n",
    "            most_freq = i\n",
    "    \n",
    "    print(most_freq)\n",
    "    return most_freq\n",
    "\n",
    "str = input(\"Input: \")\n",
    "mostFrequentChar(str)"
   ]
  },
  {
   "cell_type": "code",
   "execution_count": 20,
   "id": "a8fb7c4f-3967-4e85-85f9-21e97dc3da79",
   "metadata": {},
   "outputs": [
    {
     "name": "stdin",
     "output_type": "stream",
     "text": [
      "File name:  students.csv\n"
     ]
    },
    {
     "name": "stdout",
     "output_type": "stream",
     "text": [
      "        0   1     2\n",
      "1  Daniel  21  MECH\n",
      "2     Joe  22  BIOE\n",
      "3    Mike  22  COEN\n",
      "4   Pedro  22  AMTH\n",
      "0    Ryan  19  ELEN\n"
     ]
    }
   ],
   "source": [
    "import pandas as pd\n",
    "\n",
    "def sortStudentsPandas(file_name):\n",
    "    df = pd.read_csv(file_name, header=None)\n",
    "    df = df.sort_values(0)\n",
    "    \n",
    "    print(df)\n",
    "\n",
    "file_name = input(\"File name: \")\n",
    "sortStudentsPandas(file_name)\n",
    "    "
   ]
  },
  {
   "cell_type": "code",
   "execution_count": null,
   "id": "6c2efbe9-ae86-461e-b22b-686be8655bbc",
   "metadata": {},
   "outputs": [],
   "source": []
  }
 ],
 "metadata": {
  "kernelspec": {
   "display_name": "PyTorch",
   "language": "python",
   "name": "pytorch-cpu"
  },
  "language_info": {
   "codemirror_mode": {
    "name": "ipython",
    "version": 3
   },
   "file_extension": ".py",
   "mimetype": "text/x-python",
   "name": "python",
   "nbconvert_exporter": "python",
   "pygments_lexer": "ipython3",
   "version": "3.9.15"
  }
 },
 "nbformat": 4,
 "nbformat_minor": 5
}
