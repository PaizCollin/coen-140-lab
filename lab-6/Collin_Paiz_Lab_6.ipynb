{
 "cells": [
  {
   "attachments": {},
   "cell_type": "markdown",
   "metadata": {},
   "source": [
    "**Part 1**"
   ]
  },
  {
   "cell_type": "code",
   "execution_count": 45,
   "metadata": {},
   "outputs": [],
   "source": [
    "import pandas as pd\n",
    "from sklearn.model_selection import train_test_split\n",
    "\n",
    "# Load the dataset\n",
    "df = pd.read_csv('Breast_cancer_data.csv', sep=',')\n",
    "\n",
    "# Split the dataset into features and target\n",
    "X = df.iloc[:, :-1].values\n",
    "y = df.iloc[:, -1].values\n",
    "\n",
    "# Split the dataset into training and test sets\n",
    "X_train, X_test, y_train, y_test = train_test_split(X, y, test_size=0.2, random_state=0)"
   ]
  },
  {
   "cell_type": "code",
   "execution_count": 46,
   "metadata": {},
   "outputs": [
    {
     "name": "stdout",
     "output_type": "stream",
     "text": [
      "F1 score for Decision Tree: 0.9185185185185185\n"
     ]
    }
   ],
   "source": [
    "from sklearn.tree import DecisionTreeClassifier\n",
    "from sklearn.model_selection import GridSearchCV\n",
    "from sklearn.metrics import f1_score\n",
    "\n",
    "# Define the model\n",
    "dtc = DecisionTreeClassifier(random_state=0)\n",
    "\n",
    "# Define the hyperparameters to tune\n",
    "params = {'max_depth': [1,2,3,4,5,6,7,8,9]}\n",
    "\n",
    "# Perform grid search to find the best hyperparameters\n",
    "grid_search = GridSearchCV(dtc, params, cv=5, scoring='f1')\n",
    "grid_search.fit(X_train, y_train)\n",
    "\n",
    "# Get the best trained model\n",
    "dtc_best = grid_search.best_estimator_\n",
    "\n",
    "# Evaluate the model on the test set\n",
    "y_pred = dtc_best.predict(X_test)\n",
    "f1_dtc = f1_score(y_test, y_pred)\n",
    "print('F1 score for Decision Tree:', f1_dtc)"
   ]
  },
  {
   "cell_type": "code",
   "execution_count": 47,
   "metadata": {},
   "outputs": [
    {
     "name": "stdout",
     "output_type": "stream",
     "text": [
      "F1 score for Bagged Decision Tree: 0.9343065693430657\n"
     ]
    }
   ],
   "source": [
    "from sklearn.ensemble import BaggingClassifier\n",
    "\n",
    "# Define the model\n",
    "dtc = DecisionTreeClassifier(random_state=0)\n",
    "bc = BaggingClassifier(estimator=dtc, n_estimators=100, random_state=0)\n",
    "\n",
    "# Define the hyperparameters to tune\n",
    "params = {'estimator__max_depth': [1,2,3,4,5,6,7,8,9]}\n",
    "\n",
    "# Perform grid search to find the best hyperparameters\n",
    "grid_search = GridSearchCV(bc, params, cv=5, scoring='f1')\n",
    "grid_search.fit(X_train, y_train)\n",
    "\n",
    "# Get the best trained model\n",
    "bag_best = grid_search.best_estimator_\n",
    "\n",
    "# Evaluate the model on the test set\n",
    "y_pred = bag_best.predict(X_test)\n",
    "f1_bag = f1_score(y_test, y_pred)\n",
    "print('F1 score for Bagged Decision Tree:', f1_bag)"
   ]
  },
  {
   "cell_type": "code",
   "execution_count": 48,
   "metadata": {},
   "outputs": [
    {
     "name": "stdout",
     "output_type": "stream",
     "text": [
      "F1 score for Random Forest: 0.9343065693430657\n"
     ]
    }
   ],
   "source": [
    "from sklearn.ensemble import RandomForestClassifier\n",
    "\n",
    "# Define the model\n",
    "rf = RandomForestClassifier(random_state=0)\n",
    "\n",
    "# Define the hyperparameters to tune\n",
    "params = {'max_depth': [1,2,3,4,5,6,7,8,9],}\n",
    "\n",
    "# Perform grid search to find the best hyperparameters\n",
    "grid_search = GridSearchCV(rf, params, cv=5, scoring='f1')\n",
    "grid_search.fit(X_train, y_train)\n",
    "\n",
    "# Get the best trained model\n",
    "rf_best = grid_search.best_estimator_\n",
    "\n",
    "# Evaluate the model on the test set\n",
    "y_pred = rf_best.predict(X_test)\n",
    "f1_rf = f1_score(y_test, y_pred)\n",
    "print('F1 score for Random Forest:', f1_rf)"
   ]
  },
  {
   "cell_type": "code",
   "execution_count": 49,
   "metadata": {},
   "outputs": [
    {
     "name": "stdout",
     "output_type": "stream",
     "text": [
      "F1 score for AdaBoost: 0.9\n"
     ]
    }
   ],
   "source": [
    "from sklearn.ensemble import AdaBoostClassifier\n",
    "\n",
    "# Define the model\n",
    "dtc = DecisionTreeClassifier(random_state=0)\n",
    "ada = AdaBoostClassifier(estimator=dtc, n_estimators=100, random_state=0)\n",
    "\n",
    "# Define the hyperparameters to tune\n",
    "params = {'estimator__max_depth': [1, 2, 3, 4, 5, 6, 7, 8, 9],\n",
    "          'n_estimators': [10,50,100,500,1000]}\n",
    "\n",
    "# Perform grid search to find the best hyperparameters\n",
    "grid_search = GridSearchCV(ada, params, cv=5, scoring='f1')\n",
    "grid_search.fit(X_train, y_train)\n",
    "\n",
    "# Get the best trained model\n",
    "ada_best = grid_search.best_estimator_\n",
    "\n",
    "# Evaluate the model on the test set\n",
    "y_pred = ada_best.predict(X_test)\n",
    "f1_ada = f1_score(y_test, y_pred)\n",
    "print('F1 score for AdaBoost:', f1_ada)"
   ]
  },
  {
   "attachments": {},
   "cell_type": "markdown",
   "metadata": {},
   "source": [
    "**Part 2**"
   ]
  },
  {
   "cell_type": "code",
   "execution_count": 50,
   "metadata": {},
   "outputs": [
    {
     "name": "stdout",
     "output_type": "stream",
     "text": [
      "F1 score for Voting Classifier: 0.9197080291970803\n"
     ]
    }
   ],
   "source": [
    "from sklearn.ensemble import VotingClassifier\n",
    "\n",
    "# Define the model\n",
    "vc = VotingClassifier(estimators=[('dtc', dtc_best), ('bc', bag_best), ('rf', rf_best), ('ada', ada_best)], voting='soft')\n",
    "\n",
    "# Fit the model\n",
    "vc.fit(X_train, y_train)\n",
    "\n",
    "# Evaluate the model on the test set\n",
    "y_pred = vc.predict(X_test)\n",
    "f1_vc = f1_score(y_test, y_pred)\n",
    "print('F1 score for Voting Classifier:', f1_vc)"
   ]
  }
 ],
 "metadata": {
  "kernelspec": {
   "display_name": "Python 3",
   "language": "python",
   "name": "python3"
  },
  "language_info": {
   "codemirror_mode": {
    "name": "ipython",
    "version": 3
   },
   "file_extension": ".py",
   "mimetype": "text/x-python",
   "name": "python",
   "nbconvert_exporter": "python",
   "pygments_lexer": "ipython3",
   "version": "3.11.3"
  },
  "orig_nbformat": 4
 },
 "nbformat": 4,
 "nbformat_minor": 2
}
