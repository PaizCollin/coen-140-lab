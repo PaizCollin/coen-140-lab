{
 "cells": [
  {
   "cell_type": "code",
   "execution_count": null,
   "metadata": {},
   "outputs": [],
   "source": [
    "# Importing libraries and dataset\n",
    "import torch\n",
    "import numpy as np\n",
    "import matplotlib.pyplot as plt\n",
    "from sklearn.datasets import load_diabetes\n",
    "from torch.utils.data import Dataset, DataLoader\n",
    "from torch import nn\n",
    "from keras.datasets import mnist"
   ]
  },
  {
   "cell_type": "code",
   "execution_count": null,
   "metadata": {},
   "outputs": [],
   "source": [
    "(x_train, y_train), (x_test, y_test) = mnist.load_data()"
   ]
  },
  {
   "cell_type": "code",
   "execution_count": null,
   "metadata": {},
   "outputs": [],
   "source": [
    "x_train = np.reshape(x_train, (x_train.shape[0], -1))\n",
    "x_test = np.reshape(x_test, (x_test.shape[0], -1))"
   ]
  },
  {
   "cell_type": "code",
   "execution_count": null,
   "metadata": {},
   "outputs": [],
   "source": [
    "class inputdataset(Dataset):\n",
    "  def __init__(self,x,y):\n",
    "    # initialize the x and y of the dataset and convert them to tensors\n",
    "    self.x = torch.tensor(x,dtype=torch.float32)\n",
    "    self.y = torch.tensor(y,dtype=torch.float32)\n",
    "    self.length = self.x.shape[0]\n",
    "\n",
    "  def __getitem__(self,idx):\n",
    "    # return a particular index (both x and y value) in the dataset\n",
    "    return self.x[idx],self.y[idx]\n",
    "\n",
    "  def __len__(self):\n",
    "    # return the size of the dataset\n",
    "    return self.length"
   ]
  },
  {
   "cell_type": "code",
   "execution_count": null,
   "metadata": {},
   "outputs": [],
   "source": [
    "train_dataset = inputdataset(x_train,y_train)\n",
    "test_dataset = inputdataset(x_test,y_test)"
   ]
  },
  {
   "cell_type": "code",
   "execution_count": null,
   "metadata": {},
   "outputs": [],
   "source": [
    "train_dataloader = DataLoader(dataset=train_dataset,batch_size=100,shuffle=True)\n",
    "test_dataloader = DataLoader(dataset=test_dataset,batch_size=100,shuffle=True)"
   ]
  },
  {
   "cell_type": "code",
   "execution_count": null,
   "metadata": {},
   "outputs": [],
   "source": [
    "class net(nn.Module):\n",
    "  def __init__(self,input_size,output_size):     # defining the layers \n",
    "    super(net,self).__init__()\n",
    "    self.l1 = nn.Linear(input_size,5)\n",
    "    self.relu = nn.ReLU()\n",
    "    self.l2 = nn.Linear(5,output_size)\n",
    "\n",
    "  def forward(self,x):    # defining the forward pass which is invoked automatically when the class is called\n",
    "    output = self.l1(x) \n",
    "    output = self.relu(output)\n",
    "    output = self.l2(output)\n",
    "    return output"
   ]
  },
  {
   "cell_type": "code",
   "execution_count": null,
   "metadata": {},
   "outputs": [],
   "source": [
    "model = net(28*28,10)\n",
    "criterion = nn.CrossEntropyLoss()\n",
    "optimizer = torch.optim.SGD(model.parameters(),lr=0.001)\n",
    "\n",
    "epochs = 2000"
   ]
  },
  {
   "cell_type": "code",
   "execution_count": null,
   "metadata": {},
   "outputs": [],
   "source": [
    "cost_values = []\n",
    "loss_values = []\n",
    "\n",
    "for epoch in range(epochs):\n",
    "    for i, (x_train, y_train) in enumerate(train_dataloader):\n",
    "        \n",
    "        y_pred = model(x_train)\n",
    "        y_train = y_train.long()\n",
    "        cost = criterion(y_pred, y_train)\n",
    "\n",
    "        optimizer.zero_grad()\n",
    "        cost.backward()\n",
    "        optimizer.step()\n",
    "\n",
    "    if epoch % 50 == 0:\n",
    "        cost_values.append(cost)\n",
    "    \n",
    "    # loss_values.append(train_loss / len(train_dataloader))\n"
   ]
  },
  {
   "cell_type": "code",
   "execution_count": null,
   "metadata": {},
   "outputs": [],
   "source": [
    "total_correct = 0\n",
    "total_samples = 0\n",
    "\n",
    "with torch.no_grad():\n",
    "    for test_inputs, test_targets in test_dataloader:\n",
    "        test_outputs = model(test_inputs)\n",
    "        _, predicted_labels = torch.max(test_outputs, dim=1)\n",
    "        total_correct += (predicted_labels == test_targets).sum().item()\n",
    "        total_samples += test_targets.size(0)\n",
    "\n",
    "accuracy = total_correct / total_samples\n",
    "print(\"Test accuracy:\", accuracy)"
   ]
  }
 ],
 "metadata": {
  "kernelspec": {
   "display_name": "Python 3",
   "language": "python",
   "name": "python3"
  },
  "language_info": {
   "codemirror_mode": {
    "name": "ipython",
    "version": 3
   },
   "file_extension": ".py",
   "mimetype": "text/x-python",
   "name": "python",
   "nbconvert_exporter": "python",
   "pygments_lexer": "ipython3",
   "version": "3.10.1"
  },
  "orig_nbformat": 4
 },
 "nbformat": 4,
 "nbformat_minor": 2
}
