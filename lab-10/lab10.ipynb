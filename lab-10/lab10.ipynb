{
  "cells": [
    {
      "attachments": {},
      "cell_type": "markdown",
      "metadata": {
        "id": "Iwm55R6tRA88"
      },
      "source": [
        "# Feed Forward Neural Network"
      ]
    },
    {
      "cell_type": "code",
      "execution_count": 1,
      "metadata": {
        "id": "PyoR4baDP6yi"
      },
      "outputs": [],
      "source": [
        "# Importing libraries and dataset\n",
        "import torch\n",
        "import numpy as np\n",
        "import matplotlib.pyplot as plt\n",
        "import torch\n",
        "import numpy as np\n",
        "from sklearn.datasets import load_diabetes\n",
        "from torch.utils.data import Dataset, DataLoader\n",
        "from torch import nn"
      ]
    },
    {
      "cell_type": "code",
      "execution_count": 2,
      "metadata": {
        "id": "j3oKz-TFRbA_"
      },
      "outputs": [],
      "source": [
        "# Loading the dataset\n",
        "data = load_diabetes()\n",
        "x = data['data']\n",
        "y = data['target']"
      ]
    },
    {
      "cell_type": "code",
      "execution_count": 3,
      "metadata": {
        "colab": {
          "base_uri": "https://localhost:8080/"
        },
        "id": "DM5hwFaDRvXb",
        "outputId": "a4905504-952a-4394-af53-9feff6c5b7a4"
      },
      "outputs": [
        {
          "name": "stdout",
          "output_type": "stream",
          "text": [
            "shape of x is :  (442, 10)\n",
            "shape of y is :  (442,)\n"
          ]
        }
      ],
      "source": [
        "# Print the shape\n",
        "print('shape of x is : ',x.shape)\n",
        "print('shape of y is : ',y.shape)"
      ]
    },
    {
      "attachments": {},
      "cell_type": "markdown",
      "metadata": {
        "id": "WBuryzTWR4oH"
      },
      "source": [
        "Dataset and dataloaders\n",
        "\n",
        "In PyTorch, the class dataset covers the data in a tuple so as to make each data of the index accessible during training. \n",
        "\n",
        "In order to shuffle and apply Mini-Batch Gradient Descent or stochastic gradient descent it is necessary to create dataloader class."
      ]
    },
    {
      "cell_type": "code",
      "execution_count": 4,
      "metadata": {
        "id": "kzVxiO_2Rzll"
      },
      "outputs": [],
      "source": [
        "class inputdataset(Dataset):\n",
        "  def __init__(self,x,y):\n",
        "    # initialize the x and y of the dataset and convert them to tensors\n",
        "    self.x = torch.tensor(x,dtype=torch.float32)\n",
        "    self.y = torch.tensor(y,dtype=torch.float32)\n",
        "    self.length = self.x.shape[0]\n",
        "\n",
        "  def __getitem__(self,idx):\n",
        "    # return a particular index (both x and y value) in the dataset\n",
        "    return self.x[idx],self.y[idx]\n",
        "\n",
        "  def __len__(self):\n",
        "    # return the size of the dataset\n",
        "    return self.length"
      ]
    },
    {
      "cell_type": "code",
      "execution_count": 5,
      "metadata": {
        "id": "tg0gFCDFT_n6"
      },
      "outputs": [],
      "source": [
        "dataset = inputdataset(x,y)"
      ]
    },
    {
      "cell_type": "code",
      "execution_count": 6,
      "metadata": {
        "id": "qcggQ4QrUE2w"
      },
      "outputs": [],
      "source": [
        "dataloader = DataLoader(dataset=dataset,shuffle=True,batch_size=100)"
      ]
    },
    {
      "attachments": {},
      "cell_type": "markdown",
      "metadata": {
        "id": "46O7u2ZCU4zj"
      },
      "source": [
        "Create the Neural Network\n",
        "\n",
        "In PyTorch, neural networks are created by using Object Oriented Programming.\n",
        "\n",
        "The Functions are possible because of the class nn.Module from torch which was inherited.\n"
      ]
    },
    {
      "cell_type": "code",
      "execution_count": 7,
      "metadata": {
        "id": "mTJbGp1OUpuS"
      },
      "outputs": [],
      "source": [
        "class net(nn.Module):\n",
        "  def __init__(self,input_size,output_size):     # defining the layers \n",
        "    super(net,self).__init__()\n",
        "    self.l1 = nn.Linear(input_size,5)\n",
        "    self.relu = nn.ReLU()\n",
        "    self.l2 = nn.Linear(5,output_size)\n",
        "\n",
        "  def forward(self,x):    # defining the forward pass which is invoked automatically when the class is called\n",
        "    output = self.l1(x) \n",
        "    output = self.relu(output)\n",
        "    output = self.l2(output)\n",
        "    return output"
      ]
    },
    {
      "cell_type": "code",
      "execution_count": 8,
      "metadata": {
        "id": "vKCL9nU2WNax"
      },
      "outputs": [],
      "source": [
        "# Define parameters\n",
        "model = net(x.shape[1],1)\n",
        "criterion = nn.MSELoss()    # Mean Squared Loss because this is a regression problem\n",
        "optimizer = torch.optim.SGD(model.parameters(),lr=0.001)    # takes in weights and biases of the network and learning rate\n",
        "                                                              # weights are updated accordingly\n",
        "epochs = 1500   # Number of iterations for training"
      ]
    },
    {
      "attachments": {},
      "cell_type": "markdown",
      "metadata": {
        "id": "CZt843clZPGX"
      },
      "source": [
        "The trained model is used to predict the values of the same inputs."
      ]
    },
    {
      "cell_type": "code",
      "execution_count": 9,
      "metadata": {
        "id": "OcvSHE16X5xI"
      },
      "outputs": [],
      "source": [
        "cost_value = []\n",
        "loss_values = []\n",
        "\n",
        "for j in range(epochs):\n",
        "  for i,(x_train,y_train) in enumerate(dataloader):\n",
        "    #prediction\n",
        "    y_pred = model(x_train)\n",
        "    \n",
        "    #calculating loss\n",
        "    cost = criterion(y_pred,y_train.reshape(-1,1))\n",
        "    #loss.append(cost)\n",
        "    \n",
        "    #backprop\n",
        "    optimizer.zero_grad()\n",
        "    cost.backward()\n",
        "    optimizer.step()\n",
        "\n",
        "  if j%50 == 0:\n",
        "    #print(cost)\n",
        "    cost_value.append(cost)\n",
        "  \n",
        "#loss_values.append(cost_value / len(x_train))"
      ]
    },
    {
      "attachments": {},
      "cell_type": "markdown",
      "metadata": {
        "id": "rsITt7bsZ2l9"
      },
      "source": [
        "The predicted values are plotted against the actual values. With this plot, we can see that the predicted and actual are almost similar even though there are some errors."
      ]
    },
    {
      "cell_type": "code",
      "execution_count": 10,
      "metadata": {
        "colab": {
          "base_uri": "https://localhost:8080/",
          "height": 450
        },
        "id": "TrlJPLgQPzzn",
        "outputId": "cf407241-e766-4d6a-9b20-01c1ca46100e"
      },
      "outputs": [
        {
          "data": {
            "image/png": "[encoded data removed]",
            "text/plain": [
              "<Figure size 640x480 with 1 Axes>"
            ]
          },
          "metadata": {},
          "output_type": "display_data"
        }
      ],
      "source": [
        "x = y_pred.detach().numpy()\n",
        "y = y_train.detach().numpy()\n",
        "plt.scatter(x, y, color = \"blue\")\n",
        "plt.xlabel(\"y_pred vs y_test\")\n",
        "plt.show()"
      ]
    },
    {
      "attachments": {},
      "cell_type": "markdown",
      "metadata": {
        "id": "l0N9s6M1ROpC"
      },
      "source": [
        "### References\n",
        "1. https://pytorch.org/tutorials/beginner/blitz/neural_networks_tutorial.html\n",
        "2. https://pytorch.org/tutorials/beginner/basics/data_tutorial.html\n",
        "3. https://pytorch.org/tutorials/beginner/data_loading_tutorial.html\n",
        "4. https://pytorch.org/vision/stable/datasets.html"
      ]
    },
    {
      "attachments": {},
      "cell_type": "markdown",
      "metadata": {
        "id": "sqaWyHRvaaaV"
      },
      "source": [
        "# TASK : MNSIT Digit Recognizer\n",
        "\n",
        "1. Implement multilayer neural network that can do digit classification based on the famous MNIST dataset.\n",
        "2. Predict the accuracy on 10000 test images.\n"
      ]
    },
    {
      "cell_type": "code",
      "execution_count": null,
      "metadata": {
        "id": "NZqrNBL6Jiqw"
      },
      "outputs": [],
      "source": []
    }
  ],
  "metadata": {
    "colab": {
      "provenance": []
    },
    "kernelspec": {
      "display_name": "Python 3",
      "name": "python3"
    },
    "language_info": {
      "codemirror_mode": {
        "name": "ipython",
        "version": 3
      },
      "file_extension": ".py",
      "mimetype": "text/x-python",
      "name": "python",
      "nbconvert_exporter": "python",
      "pygments_lexer": "ipython3",
      "version": "3.10.1"
    }
  },
  "nbformat": 4,
  "nbformat_minor": 0
}
